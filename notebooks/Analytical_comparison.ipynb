{
 "cells": [
  {
   "cell_type": "code",
   "execution_count": 2,
   "metadata": {},
   "outputs": [],
   "source": [
    "%matplotlib inline\n",
    "import numpy as np\n",
    "from matplotlib import pyplot as plt\n",
    "from numba import njit\n",
    "from tqdm.notebook import trange"
   ]
  },
  {
   "cell_type": "markdown",
   "metadata": {},
   "source": [
    "# Analytical solution for constant kernel\n",
    "\n",
    "The function defined below combines Eqs. (6), (7) and (8) from Wetherill (1990), to give analytical solutions for the special case of constant kernel, and with the assumption that all particles start out with identical mass, $m$. This means that at all times, the mass of any particle will be $mk$, where $k = 1, 2, 3, ...$\n",
    "\n",
    "https://www.sciencedirect.com/science/article/pii/001910359090086O"
   ]
  },
  {
   "cell_type": "code",
   "execution_count": 3,
   "metadata": {},
   "outputs": [],
   "source": [
    "def nk(k, t, Np0, alpha=1e-6):\n",
    "    # This function calculates the number of particles\n",
    "    # with mass m*k at time t\n",
    "    # Inputs:\n",
    "    # k   : \"Mass\" (really the mass is m*k, but the m doesn't matter in this case)\n",
    "    # t   : Time for which to calculate\n",
    "    # Np0 : The initial number of particles (all of equal mass m)\n",
    "    eta = alpha*Np0*t              # Eq. (7) in Wetherill, dimensionless time\n",
    "    f = 1/(1 + eta/2)             # Eq. (6) in Wetherill\n",
    "    return Np0*f**2 * (1-f)**(k-1) # Eq. (8) in Wetherill"
   ]
  },
  {
   "cell_type": "markdown",
   "metadata": {},
   "source": [
    "# Implementation of coagulation model for particles"
   ]
  },
  {
   "cell_type": "code",
   "execution_count": 4,
   "metadata": {},
   "outputs": [],
   "source": [
    "@njit\n",
    "def alpha(m1, m2):\n",
    "    # Sticking probability\n",
    "    return 1e-6\n",
    "\n",
    "@njit\n",
    "def beta(m1, m2):\n",
    "    # Collision rate (kernel)\n",
    "    return 1.0\n",
    "\n",
    "@njit\n",
    "def coagulate_dense(M, dt):\n",
    "    # This function calculates coagulation for one timestep of duration dt\n",
    "    # Inputs:\n",
    "    # M  : An 1D array of masses.\n",
    "    #    The length of this array is the number of particles.\n",
    "    #    Coagulation events reduce the number of particles, causing this array to shorten.\n",
    "    # dt : The duration of the timestep\n",
    "    Np = len(M)\n",
    "    # Check all pairs of particles once\n",
    "    for i in range(Np):\n",
    "        for j in range(i-1): # Do not react with self\n",
    "            # Check that both particles are still valid\n",
    "            if ((M[i] > 0) and (M[j] > 0)):\n",
    "                # Coagulation rate\n",
    "                rate = alpha(M[i], M[j]) * beta(M[i], M[j])\n",
    "                # Probability of reacting\n",
    "                p = 1 - np.exp(-dt*rate)\n",
    "                # Uniform random number\n",
    "                r = np.random.random()\n",
    "                # If reaction occurs, calculate new particle size\n",
    "                # Assign new size to one particle, and remove the other\n",
    "                if r < p:\n",
    "                    M[i] = M[i] + M[j]\n",
    "                    M[j] = -999 # Using -999 to mark invalid particles\n",
    "    # Return only valid particles\n",
    "    return M[M>0]"
   ]
  },
  {
   "cell_type": "code",
   "execution_count": 11,
   "metadata": {},
   "outputs": [],
   "source": [
    "def experiment(M0, Tmax, dt, save_dt):\n",
    "    '''\n",
    "    Run the model.\n",
    "\n",
    "    M0:      Initial mass of particles\n",
    "    Tmax:    Total duration of the simulation [s]\n",
    "    dt:      Timestep [s]\n",
    "    save_dt: Interval at which to store results\n",
    "    '''\n",
    "\n",
    "    # Number of particles\n",
    "    Np = len(M0)\n",
    "    # Number of timesteps\n",
    "    Nt = int(Tmax / dt)\n",
    "    # Calculate size of output arrays\n",
    "    N_skip = int(save_dt/dt)\n",
    "    N_out = 1 + int(Nt / N_skip)\n",
    "    # Array to store output\n",
    "    M_out = np.zeros((N_out, Np)) - 999\n",
    "    # Array to track mass\n",
    "    M = M0.copy()\n",
    "\n",
    "    # Time loop\n",
    "    for n in trange(Nt+1):\n",
    "\n",
    "        # Store output once every N_skip steps\n",
    "        if n % N_skip == 0:\n",
    "            i = int(n / N_skip)\n",
    "            M_out[i,:len(M)] = M\n",
    "\n",
    "        # Reaction\n",
    "        M = coagulate_dense(M, dt)\n",
    "\n",
    "    return M_out"
   ]
  },
  {
   "cell_type": "markdown",
   "metadata": {},
   "source": [
    "# Run simulation"
   ]
  },
  {
   "cell_type": "code",
   "execution_count": 12,
   "metadata": {},
   "outputs": [
    {
     "data": {
      "application/vnd.jupyter.widget-view+json": {
       "model_id": "49b5d79214f24e76849a2aca77c94749",
       "version_major": 2,
       "version_minor": 0
      },
      "text/plain": [
       "HBox(children=(HTML(value=''), FloatProgress(value=0.0), HTML(value='')))"
      ]
     },
     "metadata": {},
     "output_type": "display_data"
    },
    {
     "name": "stdout",
     "output_type": "stream",
     "text": [
      "\n"
     ]
    }
   ],
   "source": [
    "# Simulation time and timestep\n",
    "Tmax = 100\n",
    "dt = 1\n",
    "# Interval for storing results\n",
    "save_dt = 2\n",
    "# Number of particles \n",
    "Np = 100000\n",
    "# Initial mass distribution, all particles have the same mass (m=1)\n",
    "M0 = np.ones(Np)\n",
    "\n",
    "# Run simulation\n",
    "M = experiment(M0, Tmax, dt, save_dt)"
   ]
  },
  {
   "cell_type": "code",
   "execution_count": 30,
   "metadata": {},
   "outputs": [
    {
     "data": {
      "image/png": "[encoded data removed]",
      "text/plain": [
       "<Figure size 432x288 with 1 Axes>"
      ]
     },
     "metadata": {
      "needs_background": "light"
     },
     "output_type": "display_data"
    }
   ],
   "source": [
    "# Create some size bins for plotting histograms\n",
    "# First, find smallest and largest particle size\n",
    "M_min = np.amin(M[M>0])\n",
    "M_max = np.amax(M[M>0])\n",
    "# Then create logspaced bins (we will be plotting on log scale)\n",
    "bins = np.logspace(np.log10(M_min)-0.25, np.log10(M_max)+0.25, 10)\n",
    "\n",
    "# Hand-crafted bins\n",
    "bins = np.array([0.5, 1.5, 2.5, 4.5, 8.5, 16.5, 32.5, 64.5, 128.5])\n",
    "# Find midpoints of the bins (on log scale)\n",
    "mids = np.sqrt(bins[1:]*bins[:-1])\n",
    "\n",
    "# List of masses for which to plot the analytical solution\n",
    "ms = np.logspace(np.log10(M_min)-0.25, np.log10(M_max)+0.25, 100)\n",
    "\n",
    "# Plot a few different timesteps\n",
    "Nt = M.shape[0]\n",
    "for it in [5, 10, 20, 49]:\n",
    "    # Get histogram of particle counts for output timestep it\n",
    "    # using masking to get only valid particles (invalid particles have M = -999)\n",
    "    h, _ = np.histogram(M[it,:][M[it,:]>0], bins=bins)\n",
    "    # Plot particle counts times mass squared,\n",
    "    # (see Figure is Wetherill)\n",
    "    # and scaled by bin width to get density\n",
    "    l, = plt.plot(mids, mids**2 * h / (bins[1:]-bins[:-1]), marker='.', lw=0, markersize=10)\n",
    "    # Plot analytical solution for the same time (output timestep times time index)\n",
    "    # and plotting for a larger number of masses, to get smooth curve\n",
    "    plt.plot(ms, ms**2 * nk(ms, save_dt*it, Np), '--', c = l.get_color())\n",
    "    \n",
    "    \n",
    "plt.xscale('log')"
   ]
  },
  {
   "cell_type": "code",
   "execution_count": 17,
   "metadata": {},
   "outputs": [
    {
     "data": {
      "text/plain": [
       "Text(0, 0.5, 'Particles')"
      ]
     },
     "execution_count": 17,
     "metadata": {},
     "output_type": "execute_result"
    },
    {
     "data": {
      "image/png": "[encoded data removed]",
      "text/plain": [
       "<Figure size 432x288 with 1 Axes>"
      ]
     },
     "metadata": {
      "needs_background": "light"
     },
     "output_type": "display_data"
    }
   ],
   "source": [
    "# Plot number of particles as a function of time\n",
    "t = np.linspace(0, Tmax, M.shape[0])\n",
    "plt.plot(t, np.sum(M>0, axis=1))\n",
    "plt.xlabel('Time')\n",
    "plt.ylabel('Particles')"
   ]
  },
  {
   "cell_type": "code",
   "execution_count": null,
   "metadata": {},
   "outputs": [],
   "source": []
  }
 ],
 "metadata": {
  "kernelspec": {
   "display_name": "Python 3",
   "language": "python",
   "name": "python3"
  },
  "language_info": {
   "codemirror_mode": {
    "name": "ipython",
    "version": 3
   },
   "file_extension": ".py",
   "mimetype": "text/x-python",
   "name": "python",
   "nbconvert_exporter": "python",
   "pygments_lexer": "ipython3",
   "version": "3.8.5"
  }
 },
 "nbformat": 4,
 "nbformat_minor": 5
}
